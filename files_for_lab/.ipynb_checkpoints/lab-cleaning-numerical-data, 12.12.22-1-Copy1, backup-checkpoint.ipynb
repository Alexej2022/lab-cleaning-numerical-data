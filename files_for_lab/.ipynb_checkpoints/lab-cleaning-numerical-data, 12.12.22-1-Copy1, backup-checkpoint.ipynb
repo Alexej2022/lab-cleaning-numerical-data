{
 "cells": [
  {
   "cell_type": "code",
   "execution_count": 1,
   "id": "ff55e8a5",
   "metadata": {},
   "outputs": [],
   "source": [
    "# Lab | Cleaning numerical data\n",
    "# For this lab, we will be using the dataset in the Customer Analysis Business Case. This dataset can be found in \n",
    "#files_for_lab folder.\n",
    "\n",
    "# Context\n",
    "# An auto insurance company has collected some data about its customers \n",
    "#including their demographics, education, employment, policy details, \n",
    "#vehicle information on which insurance policy is, and claim amounts. \n",
    "#You will help the senior management with some business questions \n",
    "#that will help them to better understand their customers, \n",
    "#improve their services, and improve profitability.\n",
    "\n",
    "# Some business Objectives:\n",
    "\n",
    "# Retain customers,\n",
    "# Analyze relevant customer data,\n",
    "# Develop focused customer retention programs.\n",
    "# Based on the analysis, take targeted actions to increase profitable customer response, retention, and growth.\n"
   ]
  },
  {
   "cell_type": "code",
   "execution_count": 2,
   "id": "ab07560f",
   "metadata": {},
   "outputs": [],
   "source": [
    "# Instructions\n",
    "# 1 Import the necessary libraries.\n",
    "# 2 Load the we_fn_use_c_marketing_customer_value_analysis.csv into the variable customer_df\n",
    "# 3 First look at its main features (head, shape, info).\n",
    "\n",
    "# 4 Rename the columns so they follow the PE8 (snake case) (lower_case_with_underscores)\n",
    "\n",
    "# 5 Change effective to date column to datetime format.\n",
    "\n",
    "# 6 Define a function that differentiates between continuous and discrete variables. \n",
    "# Hint: The number of unique values might be useful. \n",
    "#Store continuous data into a continuous_df variable and do the same for discrete_df\n",
    "\n",
    "# 7 Plot a correlation matrix, comment what you see.\n",
    "\n",
    "# 8 Create a function to plot every discrete variable. Do the same with the continuous variables \n",
    "#(Be Careful, you may need to change the plot type to one better suited for continuous data!)\n",
    "\n",
    "# 9 Comment what you can see in the plots.\n",
    "\n",
    "# 10 Look for outliers in the continuous variables. (HINT: There’s a good plot to do that!)\n",
    "\n",
    "# 11 Did you find outliers? Comment what you will do with them.\n",
    "\n",
    "# 12 Check all columns for NaN values. Decide what (if anything) you will need to do with them."
   ]
  },
  {
   "cell_type": "code",
   "execution_count": 3,
   "id": "111378a0",
   "metadata": {},
   "outputs": [],
   "source": [
    "# pd.set_option('display.max_columns', None)\n",
    "import warnings\n",
    "warnings.filterwarnings('ignore')\n",
    "\n",
    "# Base libraries\n",
    "import pandas as pd\n",
    "import numpy as np\n",
    "\n",
    "# Visualization\n",
    "import matplotlib.pyplot as plt\n",
    "import seaborn as sns\n",
    "from matplotlib.colors import BASE_COLORS\n",
    "%matplotlib inline\n",
    "\n",
    "# sklearn\n",
    "from sklearn.model_selection import train_test_split\n",
    "from sklearn.preprocessing import MinMaxScaler\n",
    "from sklearn.linear_model import LinearRegression, SGDRegressor\n",
    "from sklearn.tree import DecisionTreeRegressor\n",
    "from sklearn.neighbors import KNeighborsRegressor\n",
    "from sklearn.svm import SVR\n",
    "from sklearn.neural_network import MLPRegressor\n",
    "from sklearn.ensemble import RandomForestRegressor"
   ]
  },
  {
   "cell_type": "code",
   "execution_count": 4,
   "id": "17655f86",
   "metadata": {},
   "outputs": [],
   "source": [
    "# 1 Import the necessary libraries.\n",
    "import pandas as pd\n",
    "import seaborn as sns\n",
    "import matplotlib.pyplot as plt\n",
    "import numpy as np"
   ]
  },
  {
   "cell_type": "code",
   "execution_count": 5,
   "id": "0b848799",
   "metadata": {},
   "outputs": [
    {
     "data": {
      "text/plain": [
       "(9134, 24)"
      ]
     },
     "metadata": {},
     "output_type": "display_data"
    },
    {
     "data": {
      "text/html": [
       "<div>\n",
       "<style scoped>\n",
       "    .dataframe tbody tr th:only-of-type {\n",
       "        vertical-align: middle;\n",
       "    }\n",
       "\n",
       "    .dataframe tbody tr th {\n",
       "        vertical-align: top;\n",
       "    }\n",
       "\n",
       "    .dataframe thead th {\n",
       "        text-align: right;\n",
       "    }\n",
       "</style>\n",
       "<table border=\"1\" class=\"dataframe\">\n",
       "  <thead>\n",
       "    <tr style=\"text-align: right;\">\n",
       "      <th></th>\n",
       "      <th>Customer</th>\n",
       "      <th>State</th>\n",
       "      <th>Customer Lifetime Value</th>\n",
       "      <th>Response</th>\n",
       "      <th>Coverage</th>\n",
       "      <th>Education</th>\n",
       "      <th>Effective To Date</th>\n",
       "      <th>EmploymentStatus</th>\n",
       "      <th>Gender</th>\n",
       "      <th>Income</th>\n",
       "      <th>...</th>\n",
       "      <th>Months Since Policy Inception</th>\n",
       "      <th>Number of Open Complaints</th>\n",
       "      <th>Number of Policies</th>\n",
       "      <th>Policy Type</th>\n",
       "      <th>Policy</th>\n",
       "      <th>Renew Offer Type</th>\n",
       "      <th>Sales Channel</th>\n",
       "      <th>Total Claim Amount</th>\n",
       "      <th>Vehicle Class</th>\n",
       "      <th>Vehicle Size</th>\n",
       "    </tr>\n",
       "  </thead>\n",
       "  <tbody>\n",
       "    <tr>\n",
       "      <th>0</th>\n",
       "      <td>BU79786</td>\n",
       "      <td>Washington</td>\n",
       "      <td>2763.519279</td>\n",
       "      <td>No</td>\n",
       "      <td>Basic</td>\n",
       "      <td>Bachelor</td>\n",
       "      <td>2/24/11</td>\n",
       "      <td>Employed</td>\n",
       "      <td>F</td>\n",
       "      <td>56274</td>\n",
       "      <td>...</td>\n",
       "      <td>5</td>\n",
       "      <td>0</td>\n",
       "      <td>1</td>\n",
       "      <td>Corporate Auto</td>\n",
       "      <td>Corporate L3</td>\n",
       "      <td>Offer1</td>\n",
       "      <td>Agent</td>\n",
       "      <td>384.811147</td>\n",
       "      <td>Two-Door Car</td>\n",
       "      <td>Medsize</td>\n",
       "    </tr>\n",
       "    <tr>\n",
       "      <th>1</th>\n",
       "      <td>QZ44356</td>\n",
       "      <td>Arizona</td>\n",
       "      <td>6979.535903</td>\n",
       "      <td>No</td>\n",
       "      <td>Extended</td>\n",
       "      <td>Bachelor</td>\n",
       "      <td>1/31/11</td>\n",
       "      <td>Unemployed</td>\n",
       "      <td>F</td>\n",
       "      <td>0</td>\n",
       "      <td>...</td>\n",
       "      <td>42</td>\n",
       "      <td>0</td>\n",
       "      <td>8</td>\n",
       "      <td>Personal Auto</td>\n",
       "      <td>Personal L3</td>\n",
       "      <td>Offer3</td>\n",
       "      <td>Agent</td>\n",
       "      <td>1131.464935</td>\n",
       "      <td>Four-Door Car</td>\n",
       "      <td>Medsize</td>\n",
       "    </tr>\n",
       "    <tr>\n",
       "      <th>2</th>\n",
       "      <td>AI49188</td>\n",
       "      <td>Nevada</td>\n",
       "      <td>12887.431650</td>\n",
       "      <td>No</td>\n",
       "      <td>Premium</td>\n",
       "      <td>Bachelor</td>\n",
       "      <td>2/19/11</td>\n",
       "      <td>Employed</td>\n",
       "      <td>F</td>\n",
       "      <td>48767</td>\n",
       "      <td>...</td>\n",
       "      <td>38</td>\n",
       "      <td>0</td>\n",
       "      <td>2</td>\n",
       "      <td>Personal Auto</td>\n",
       "      <td>Personal L3</td>\n",
       "      <td>Offer1</td>\n",
       "      <td>Agent</td>\n",
       "      <td>566.472247</td>\n",
       "      <td>Two-Door Car</td>\n",
       "      <td>Medsize</td>\n",
       "    </tr>\n",
       "    <tr>\n",
       "      <th>3</th>\n",
       "      <td>WW63253</td>\n",
       "      <td>California</td>\n",
       "      <td>7645.861827</td>\n",
       "      <td>No</td>\n",
       "      <td>Basic</td>\n",
       "      <td>Bachelor</td>\n",
       "      <td>1/20/11</td>\n",
       "      <td>Unemployed</td>\n",
       "      <td>M</td>\n",
       "      <td>0</td>\n",
       "      <td>...</td>\n",
       "      <td>65</td>\n",
       "      <td>0</td>\n",
       "      <td>7</td>\n",
       "      <td>Corporate Auto</td>\n",
       "      <td>Corporate L2</td>\n",
       "      <td>Offer1</td>\n",
       "      <td>Call Center</td>\n",
       "      <td>529.881344</td>\n",
       "      <td>SUV</td>\n",
       "      <td>Medsize</td>\n",
       "    </tr>\n",
       "    <tr>\n",
       "      <th>4</th>\n",
       "      <td>HB64268</td>\n",
       "      <td>Washington</td>\n",
       "      <td>2813.692575</td>\n",
       "      <td>No</td>\n",
       "      <td>Basic</td>\n",
       "      <td>Bachelor</td>\n",
       "      <td>2/3/11</td>\n",
       "      <td>Employed</td>\n",
       "      <td>M</td>\n",
       "      <td>43836</td>\n",
       "      <td>...</td>\n",
       "      <td>44</td>\n",
       "      <td>0</td>\n",
       "      <td>1</td>\n",
       "      <td>Personal Auto</td>\n",
       "      <td>Personal L1</td>\n",
       "      <td>Offer1</td>\n",
       "      <td>Agent</td>\n",
       "      <td>138.130879</td>\n",
       "      <td>Four-Door Car</td>\n",
       "      <td>Medsize</td>\n",
       "    </tr>\n",
       "  </tbody>\n",
       "</table>\n",
       "<p>5 rows × 24 columns</p>\n",
       "</div>"
      ],
      "text/plain": [
       "  Customer       State  Customer Lifetime Value Response  Coverage Education  \\\n",
       "0  BU79786  Washington              2763.519279       No     Basic  Bachelor   \n",
       "1  QZ44356     Arizona              6979.535903       No  Extended  Bachelor   \n",
       "2  AI49188      Nevada             12887.431650       No   Premium  Bachelor   \n",
       "3  WW63253  California              7645.861827       No     Basic  Bachelor   \n",
       "4  HB64268  Washington              2813.692575       No     Basic  Bachelor   \n",
       "\n",
       "  Effective To Date EmploymentStatus Gender  Income  ...  \\\n",
       "0           2/24/11         Employed      F   56274  ...   \n",
       "1           1/31/11       Unemployed      F       0  ...   \n",
       "2           2/19/11         Employed      F   48767  ...   \n",
       "3           1/20/11       Unemployed      M       0  ...   \n",
       "4            2/3/11         Employed      M   43836  ...   \n",
       "\n",
       "  Months Since Policy Inception Number of Open Complaints  Number of Policies  \\\n",
       "0                             5                         0                   1   \n",
       "1                            42                         0                   8   \n",
       "2                            38                         0                   2   \n",
       "3                            65                         0                   7   \n",
       "4                            44                         0                   1   \n",
       "\n",
       "      Policy Type        Policy  Renew Offer Type  Sales Channel  \\\n",
       "0  Corporate Auto  Corporate L3            Offer1          Agent   \n",
       "1   Personal Auto   Personal L3            Offer3          Agent   \n",
       "2   Personal Auto   Personal L3            Offer1          Agent   \n",
       "3  Corporate Auto  Corporate L2            Offer1    Call Center   \n",
       "4   Personal Auto   Personal L1            Offer1          Agent   \n",
       "\n",
       "  Total Claim Amount  Vehicle Class Vehicle Size  \n",
       "0         384.811147   Two-Door Car      Medsize  \n",
       "1        1131.464935  Four-Door Car      Medsize  \n",
       "2         566.472247   Two-Door Car      Medsize  \n",
       "3         529.881344            SUV      Medsize  \n",
       "4         138.130879  Four-Door Car      Medsize  \n",
       "\n",
       "[5 rows x 24 columns]"
      ]
     },
     "execution_count": 5,
     "metadata": {},
     "output_type": "execute_result"
    }
   ],
   "source": [
    "# 2 Load the we_fn_use_c_marketing_customer_value_analysis.csv into the variable customer_df\n",
    "data = pd.read_csv('we_fn_use_c_marketing_customer_value_analysis.csv')\n",
    "display(data.shape)\n",
    "data.head()"
   ]
  },
  {
   "cell_type": "code",
   "execution_count": 6,
   "id": "9d25b3bc",
   "metadata": {},
   "outputs": [
    {
     "data": {
      "text/plain": [
       "(9134, 24)"
      ]
     },
     "execution_count": 6,
     "metadata": {},
     "output_type": "execute_result"
    }
   ],
   "source": [
    "# 3 First look at its main features (head, shape, info).\n",
    "data.shape"
   ]
  },
  {
   "cell_type": "code",
   "execution_count": 7,
   "id": "58f44653",
   "metadata": {},
   "outputs": [
    {
     "name": "stdout",
     "output_type": "stream",
     "text": [
      "<class 'pandas.core.frame.DataFrame'>\n",
      "RangeIndex: 9134 entries, 0 to 9133\n",
      "Data columns (total 24 columns):\n",
      " #   Column                         Non-Null Count  Dtype  \n",
      "---  ------                         --------------  -----  \n",
      " 0   Customer                       9134 non-null   object \n",
      " 1   State                          9134 non-null   object \n",
      " 2   Customer Lifetime Value        9134 non-null   float64\n",
      " 3   Response                       9134 non-null   object \n",
      " 4   Coverage                       9134 non-null   object \n",
      " 5   Education                      9134 non-null   object \n",
      " 6   Effective To Date              9134 non-null   object \n",
      " 7   EmploymentStatus               9134 non-null   object \n",
      " 8   Gender                         9134 non-null   object \n",
      " 9   Income                         9134 non-null   int64  \n",
      " 10  Location Code                  9134 non-null   object \n",
      " 11  Marital Status                 9134 non-null   object \n",
      " 12  Monthly Premium Auto           9134 non-null   int64  \n",
      " 13  Months Since Last Claim        9134 non-null   int64  \n",
      " 14  Months Since Policy Inception  9134 non-null   int64  \n",
      " 15  Number of Open Complaints      9134 non-null   int64  \n",
      " 16  Number of Policies             9134 non-null   int64  \n",
      " 17  Policy Type                    9134 non-null   object \n",
      " 18  Policy                         9134 non-null   object \n",
      " 19  Renew Offer Type               9134 non-null   object \n",
      " 20  Sales Channel                  9134 non-null   object \n",
      " 21  Total Claim Amount             9134 non-null   float64\n",
      " 22  Vehicle Class                  9134 non-null   object \n",
      " 23  Vehicle Size                   9134 non-null   object \n",
      "dtypes: float64(2), int64(6), object(16)\n",
      "memory usage: 1.7+ MB\n"
     ]
    }
   ],
   "source": [
    "# 3 First look at its main features (head, shape, info).\n",
    "data.info()"
   ]
  },
  {
   "cell_type": "code",
   "execution_count": 9,
   "id": "934a165f",
   "metadata": {},
   "outputs": [],
   "source": [
    "# 4 Rename the columns so they follow the PE8 (snake case) (lower_case_with_underscores)\n",
    "# 4 Rename the columns so they follow the PE8 (snake case) (lower_case_with_underscores)\n",
    "# 5 Change effective to date column to datetime format.\n",
    "# 6 Define a function that differentiates between continuous and discrete variables. \n",
    "# Hint: The number of unique values might be useful. \n",
    "#Store continuous data into a continuous_df variable and do the same for discrete_df\n",
    "# 7 Plot a correlation matrix, comment what you see.\n",
    "# 8 Create a function to plot every discrete variable. Do the same with the continuous variables \n",
    "#(Be Careful, you may need to change the plot type to one better suited for continuous data!)\n",
    "# 9 Comment what you can see in the plots.\n",
    "# 10 Look for outliers in the continuous variables. (HINT: There’s a good plot to do that!)\n",
    "# 11 Did you find outliers? Comment what you will do with them.\n",
    "# 12 Check all columns for NaN values. Decide what (if anything) you will need to do with them.\n"
   ]
  },
  {
   "cell_type": "code",
   "execution_count": 10,
   "id": "389bd47e",
   "metadata": {},
   "outputs": [],
   "source": [
    "# data.columns = [col.lower() for col in data.columns]\n",
    "# display(data.shape)\n",
    "# data.head()"
   ]
  },
  {
   "cell_type": "code",
   "execution_count": 11,
   "id": "d88763c6",
   "metadata": {},
   "outputs": [
    {
     "data": {
      "text/plain": [
       "['customer',\n",
       " 'state',\n",
       " 'customer_lifetime_value',\n",
       " 'response',\n",
       " 'coverage',\n",
       " 'education',\n",
       " 'effective_to_date',\n",
       " 'employmentstatus',\n",
       " 'gender',\n",
       " 'income',\n",
       " 'location_code',\n",
       " 'marital_status',\n",
       " 'monthly_premium_auto',\n",
       " 'months_since_last_claim',\n",
       " 'months_since_policy_inception',\n",
       " 'number_of_open_complaints',\n",
       " 'number_of_policies',\n",
       " 'policy_type',\n",
       " 'policy',\n",
       " 'renew_offer_type',\n",
       " 'sales_channel',\n",
       " 'total_claim_amount',\n",
       " 'vehicle_class',\n",
       " 'vehicle_size']"
      ]
     },
     "execution_count": 11,
     "metadata": {},
     "output_type": "execute_result"
    }
   ],
   "source": [
    "# 4 Rename the columns so they follow the PE8 (snake case) (lower_case_with_underscores)\n",
    "# This code takes the columns of a pandas dataframe (data) and converts each column name \n",
    "#to lowercase and replaces any spaces with underscores, \n",
    "#then updates the dataframe's columns with these new names. \n",
    "#The final line returns the list of updated column names.\n",
    "\n",
    "n_cols = []\n",
    "for i in range(len(data.columns)):\n",
    "    n_cols.append(data.columns[i].lower().replace(' ', '_'))\n",
    "data.columns = n_cols\n",
    "n_cols"
   ]
  },
  {
   "cell_type": "code",
   "execution_count": null,
   "id": "386af7de",
   "metadata": {},
   "outputs": [],
   "source": [
    "# data.rename(inplace=True, columns={'sales channel': 'sales_channel', 'total claim amount': 'total_claim_amount','vehicle class': 'vehicle_class','vehicle size': 'vehicle_size', 'employmentstatus':'employment_status','policy type':'policy_type','renew offer type':'renew_offer_type'})\n",
    "# print(data)"
   ]
  },
  {
   "cell_type": "code",
   "execution_count": null,
   "id": "7c9a3bda",
   "metadata": {},
   "outputs": [],
   "source": [
    "# data.columns"
   ]
  },
  {
   "cell_type": "code",
   "execution_count": null,
   "id": "1b00cc66",
   "metadata": {},
   "outputs": [],
   "source": [
    "# data.rename(inplace=True, columns={'location code': 'location_code', 'marital status': 'marital_status','monthly premium auto': 'monthly_premium_auto','months since last claim': 'months_since_last_claim'})\n",
    "# print(data)"
   ]
  },
  {
   "cell_type": "code",
   "execution_count": null,
   "id": "2beb96f4",
   "metadata": {},
   "outputs": [],
   "source": [
    "# data.columns"
   ]
  },
  {
   "cell_type": "code",
   "execution_count": null,
   "id": "796caf33",
   "metadata": {},
   "outputs": [],
   "source": [
    "# 5 Change effective to date column to datetime format."
   ]
  },
  {
   "cell_type": "code",
   "execution_count": null,
   "id": "757de3df",
   "metadata": {},
   "outputs": [],
   "source": [
    "data['effective_to_date'] = pd.to_datetime(data['effective_to_date'])"
   ]
  },
  {
   "cell_type": "code",
   "execution_count": null,
   "id": "56079cca",
   "metadata": {},
   "outputs": [],
   "source": [
    "display(data.shape)\n",
    "data"
   ]
  },
  {
   "cell_type": "code",
   "execution_count": null,
   "id": "25aacf37",
   "metadata": {},
   "outputs": [],
   "source": [
    "# 6 Define a function that differentiates between \n",
    "#continuous and discrete variables. \n",
    "# Hint: The number of unique values might be useful. \n",
    "#Store continuous data into a continuous_df \n",
    "#variable and do the same for discrete_df\n",
    "categorical = data.select_dtypes(include=object)\n",
    "numerical = data.select_dtypes(include=np.number)\n",
    "display(numerical.nunique())\n",
    "numerical.info()\n"
   ]
  },
  {
   "cell_type": "code",
   "execution_count": null,
   "id": "ae70806e",
   "metadata": {},
   "outputs": [],
   "source": [
    "# Discrete variables represent counts (e.g., the number of objects in a collection).\n",
    "# Continuous variables represent measurable amounts (e.g., water volume or weight)."
   ]
  },
  {
   "cell_type": "code",
   "execution_count": null,
   "id": "44986712",
   "metadata": {},
   "outputs": [],
   "source": [
    "# discrete_var = []\n",
    "# continuous_var = []\n",
    "# for col in numerical.columns:\n",
    "#     if len(numerical[col].unique()) < 200:\n",
    "#         discrete_var.append(col)\n",
    "#     else:\n",
    "#         continuous_var.append(col)\n",
    "# display(discrete_var)\n",
    "# display(continuous_var)"
   ]
  },
  {
   "cell_type": "code",
   "execution_count": null,
   "id": "6797e079",
   "metadata": {},
   "outputs": [],
   "source": [
    "# break into numericl and categorical, begin with numerical data "
   ]
  },
  {
   "cell_type": "code",
   "execution_count": null,
   "id": "e5d349af",
   "metadata": {},
   "outputs": [],
   "source": [
    "discrete_lst = []\n",
    "continuous_lst = []\n",
    "for col in numerical.columns:\n",
    "    if len(data[col].unique()) < (data.shape[0] * 0.02):\n",
    "        discrete_lst.append(col)\n",
    "    else:\n",
    "        continuous_lst.append(col)\n",
    "display(discrete_lst)\n",
    "display(continuous_lst)"
   ]
  },
  {
   "cell_type": "code",
   "execution_count": null,
   "id": "5a9845ac",
   "metadata": {},
   "outputs": [],
   "source": [
    "# Create a function to differentiate between discrete and continuous variables"
   ]
  },
  {
   "cell_type": "code",
   "execution_count": null,
   "id": "3aba9607",
   "metadata": {},
   "outputs": [],
   "source": [
    "def discrete_continuous(df):\n",
    "    discrete_lst = []\n",
    "    continuous_lst = []\n",
    "    for col in df.columns:\n",
    "        if len(df[col].unique()) < (df.shape[0] * 0.02):\n",
    "            discrete_lst.append(col)\n",
    "        else:\n",
    "            continuous_lst.append(col)\n",
    "    return (discrete_lst, continuous_lst)\n",
    "    "
   ]
  },
  {
   "cell_type": "code",
   "execution_count": null,
   "id": "aa906cd2",
   "metadata": {},
   "outputs": [],
   "source": [
    "discrete_lst, continuous_lst = discrete_continuous(numerical)"
   ]
  },
  {
   "cell_type": "code",
   "execution_count": null,
   "id": "95d31366",
   "metadata": {},
   "outputs": [],
   "source": [
    "print(discrete_lst)\n",
    "print(continuous_lst)"
   ]
  },
  {
   "cell_type": "code",
   "execution_count": null,
   "id": "91303425",
   "metadata": {},
   "outputs": [],
   "source": [
    "# 7 Plot a correlation matrix, comment what you see.\n",
    "corr_matrix=data.corr()\n",
    "fig, ax = plt.subplots(figsize=(10,8))\n",
    "ax = sns.heatmap(corr_matrix, annot=True)\n",
    "plt.show()\n"
   ]
  },
  {
   "cell_type": "code",
   "execution_count": null,
   "id": "2e2a6b64",
   "metadata": {},
   "outputs": [],
   "source": [
    "# Plot a correlation matrix\n",
    "correlations = data.corr()\n",
    "correlations"
   ]
  },
  {
   "cell_type": "code",
   "execution_count": null,
   "id": "5a469d4c",
   "metadata": {},
   "outputs": [],
   "source": [
    "# 8 Create a function to plot every discrete variable. Do the same with the continuous variables \n",
    "#(Be Careful, you may need to change the plot type to one better suited for continuous data!)"
   ]
  },
  {
   "cell_type": "code",
   "execution_count": null,
   "id": "556ef5ab",
   "metadata": {},
   "outputs": [],
   "source": [
    "# def is_continous(dataframe, total_rows):\n",
    "#     if dataframe.dtype == float or dataframe.dtype == datetime.datetime\n",
    "#         return True\n",
    "#     if dataframe.dtype == int and ({dataframe.nunique{} / total_rows} * 100 >3):\n",
    "#         return True\n",
    "#     return False\n",
    "\n",
    "\n",
    "# continous_variables = []\n",
    "# discrete_variables = []\n",
    "\n",
    "# for col_name in customer_df.columns:\n",
    "#     if is_continous(customer_df[col_name], len(customer_df[col_name])) == True:\n",
    "#         continous_variables.append[col_name]\n",
    "#     else:\n",
    "#         discrete_variables.append(col_name) = []\n",
    "        \n",
    "        \n",
    "# print(continous_variables)\n",
    "# print('----------------')        \n",
    "# print(discrete_variables)        \n",
    "    "
   ]
  },
  {
   "cell_type": "code",
   "execution_count": null,
   "id": "d95b52d7",
   "metadata": {},
   "outputs": [],
   "source": [
    "# Plots for variable types\n",
    "\n",
    "for column in numerical[discrete_lst]:\n",
    "    sns.distplot(numerical[column])\n",
    "    plt.show()"
   ]
  },
  {
   "cell_type": "code",
   "execution_count": null,
   "id": "d6f66cc9",
   "metadata": {},
   "outputs": [],
   "source": [
    "for column in numerical[continuous_lst]:\n",
    "    sns.histplot(numerical[column])\n",
    "    plt.show()"
   ]
  },
  {
   "cell_type": "code",
   "execution_count": null,
   "id": "8fc4af0a",
   "metadata": {},
   "outputs": [],
   "source": [
    "# OUTLIERS in continuous variables\n",
    "# 9 Comment what you can see in the plots.\n",
    "# 10 Look for outliers in the continuous variables. (HINT: There’s a good plot to do that!)\n",
    "# 11 Did you find outliers? Comment what you will do with them."
   ]
  },
  {
   "cell_type": "code",
   "execution_count": null,
   "id": "ec7955a7",
   "metadata": {},
   "outputs": [],
   "source": [
    "for column in numerical[continuous_lst]:\n",
    "    sns.boxplot(numerical[column])\n",
    "    plt.show()"
   ]
  },
  {
   "cell_type": "code",
   "execution_count": null,
   "id": "ed25a8c0",
   "metadata": {},
   "outputs": [],
   "source": [
    "def detect_outlier(column):\n",
    "    # find q1 and q3 values\n",
    "    q1, q3 = np.percentile(sorted(column), [25, 75])\n",
    " \n",
    "    # compute IQR\n",
    "    iqr = q3 - q1\n",
    " \n",
    "    # find lower and upper bounds\n",
    "    lower_bound = q1 - (1.5 * iqr)\n",
    "    upper_bound = q3 + (1.5 * iqr)\n",
    " \n",
    "    outliers = [x for x in column if x <= lower_bound or x >= upper_bound]\n",
    " \n",
    "    return outliers\n",
    " "
   ]
  },
  {
   "cell_type": "code",
   "execution_count": null,
   "id": "c9286f57",
   "metadata": {},
   "outputs": [],
   "source": [
    "\n",
    "# input data\n",
    "tca_outliers = detect_outlier(numerical['total_claim_amount'])\n",
    "mpa_outliers = detect_outlier(numerical['monthly_premium_auto'])"
   ]
  },
  {
   "cell_type": "code",
   "execution_count": null,
   "id": "32bd8f1b",
   "metadata": {},
   "outputs": [],
   "source": [
    "len(mpa_outliers)"
   ]
  },
  {
   "cell_type": "code",
   "execution_count": null,
   "id": "432c0d7b",
   "metadata": {},
   "outputs": [],
   "source": [
    "\n",
    "# 12 Check all columns for NaN values. Decide what (if anything) you will need to do with them."
   ]
  },
  {
   "cell_type": "code",
   "execution_count": null,
   "id": "044eb048",
   "metadata": {},
   "outputs": [],
   "source": [
    "numerical.isna().sum()"
   ]
  },
  {
   "cell_type": "code",
   "execution_count": null,
   "id": "3a873558",
   "metadata": {},
   "outputs": [],
   "source": [
    "numerical.isna().sum()"
   ]
  },
  {
   "cell_type": "code",
   "execution_count": null,
   "id": "796bd92f",
   "metadata": {},
   "outputs": [],
   "source": [
    "# Looking at Categorical features"
   ]
  },
  {
   "cell_type": "code",
   "execution_count": null,
   "id": "c3450d76",
   "metadata": {},
   "outputs": [],
   "source": [
    "categorical"
   ]
  },
  {
   "cell_type": "code",
   "execution_count": null,
   "id": "a9152011",
   "metadata": {},
   "outputs": [],
   "source": [
    "# customer has all unique values, dropping before I plot\n",
    "categorical= categorical.drop(['customer'], axis = 1)"
   ]
  },
  {
   "cell_type": "code",
   "execution_count": null,
   "id": "cbbfb10c",
   "metadata": {},
   "outputs": [],
   "source": [
    "def cntplot_cat(df):\n",
    "    for column in df.columns:\n",
    "        sns.countplot(x=df[column])\n",
    "        plt.show()\n",
    "    return None\n",
    "   \n",
    "\n",
    "cntplot_cat(categorical)"
   ]
  },
  {
   "cell_type": "code",
   "execution_count": null,
   "id": "7b38e23e",
   "metadata": {},
   "outputs": [],
   "source": [
    "# # Insights into categorical data\n",
    "# column\tdecision\n",
    "# state\tonly 5 - leave as is\n",
    "# response\timbalanced make 1,0\n",
    "# coverage\tordinal encode\n",
    "# education\tcombine master & dr.\n",
    "# employment status\tsmallest 3 into other\n",
    "# gender\t1hot encode\n",
    "# location\tordinal encode as is\n",
    "# marital\t1hot encode as is\n",
    "# policy type\t1hot encode\n",
    "# policy\tdrop column\n",
    "# renew offer\tencode as is\n",
    "# sales channel\t1hot encode as is\n",
    "# vehicle class\t1hot combine luxury/sports\n",
    "# vehicle size\tordinal encode"
   ]
  },
  {
   "cell_type": "code",
   "execution_count": null,
   "id": "907c9d47",
   "metadata": {},
   "outputs": [],
   "source": [
    "# Discrete variables\n"
   ]
  },
  {
   "cell_type": "code",
   "execution_count": null,
   "id": "6b3a87b4",
   "metadata": {},
   "outputs": [],
   "source": [
    "categorical_columns = [col for col in categorical if (len(categorical[col].unique()) < (categorical.shape[0] * 0.01))]\n"
   ]
  },
  {
   "cell_type": "code",
   "execution_count": null,
   "id": "3552a7d0",
   "metadata": {},
   "outputs": [],
   "source": [
    "len(categorical_columns)"
   ]
  },
  {
   "cell_type": "code",
   "execution_count": null,
   "id": "1e5fcdc5",
   "metadata": {},
   "outputs": [],
   "source": [
    "#categorical.loc[categorical[\"education\"].isin(['Master','Doctor'])] = \"Post-Uni\"\n",
    "need = categorical[\"education\"].value_counts().index[:3]\n",
    "categorical[\"education\"] = np.where(categorical[\"education\"].isin(need), categorical[\"education\"], 'Post-Uni')\n",
    "categorical[\"education\"].value_counts(dropna=False)"
   ]
  },
  {
   "cell_type": "code",
   "execution_count": null,
   "id": "34a65282",
   "metadata": {},
   "outputs": [],
   "source": [
    "need = categorical[\"vehicle_class\"].value_counts().index[:3]\n",
    "categorical[\"vehicle_class\"] = np.where(categorical[\"vehicle_class\"].isin(need), categorical[\"vehicle_class\"], 'Luxury')\n",
    "categorical[\"vehicle_class\"].value_counts(dropna=False)"
   ]
  },
  {
   "cell_type": "code",
   "execution_count": null,
   "id": "3bfd1498",
   "metadata": {},
   "outputs": [],
   "source": [
    "categorical"
   ]
  },
  {
   "cell_type": "code",
   "execution_count": null,
   "id": "53d352d2",
   "metadata": {},
   "outputs": [],
   "source": [
    "categorical[\"policy_type\"].value_counts(dropna=False)"
   ]
  },
  {
   "cell_type": "code",
   "execution_count": null,
   "id": "3761c30f",
   "metadata": {},
   "outputs": [],
   "source": [
    "categorical[\"policy\"].value_counts(dropna=False)"
   ]
  },
  {
   "cell_type": "code",
   "execution_count": null,
   "id": "bb441669",
   "metadata": {},
   "outputs": [],
   "source": [
    "categorical = categorical.drop(['policy'], axis = 1)\n",
    "categorical"
   ]
  },
  {
   "cell_type": "code",
   "execution_count": null,
   "id": "51cbca74",
   "metadata": {},
   "outputs": [],
   "source": [
    "# Saving the categorical at this point before encoding\n",
    "categorical.to_csv('categorical_b4_encoding.csv', index=False)"
   ]
  },
  {
   "cell_type": "code",
   "execution_count": null,
   "id": "a0162d31",
   "metadata": {},
   "outputs": [],
   "source": [
    "\n",
    "# Concatenating numerical and categorical"
   ]
  },
  {
   "cell_type": "code",
   "execution_count": null,
   "id": "2e667596",
   "metadata": {},
   "outputs": [],
   "source": [
    "X = pd.concat([numerical,categorical], axis=1)\n",
    "X"
   ]
  },
  {
   "cell_type": "code",
   "execution_count": null,
   "id": "84ab4c1a",
   "metadata": {},
   "outputs": [],
   "source": [
    "# Train/test/split data\n",
    "# Splitting / Scaling / 1Hot encoding X_train and X_test"
   ]
  },
  {
   "cell_type": "code",
   "execution_count": null,
   "id": "252040e4",
   "metadata": {},
   "outputs": [],
   "source": [
    "y=X['total_claim_amount']\n",
    "X=X.drop('total_claim_amount', axis=1)"
   ]
  },
  {
   "cell_type": "code",
   "execution_count": null,
   "id": "5f895a9d",
   "metadata": {},
   "outputs": [],
   "source": [
    "X_train, X_test, y_train, y_test = train_test_split(X, y, test_size=0.2, random_state=13)\n",
    "print('X_train shape is:',X_train.shape)\n",
    "print('y_train shape is:', y_train.shape)\n",
    "print('X_test shape is:', X_test.shape)\n",
    "print('y_test shape is:', y_test.shape)"
   ]
  },
  {
   "cell_type": "code",
   "execution_count": null,
   "id": "504a9b18",
   "metadata": {},
   "outputs": [],
   "source": [
    "# Insights into categorical data\n",
    "# column\tdecision\n",
    "# state\tonly 5 - leave as is\n",
    "# response\timbalanced make 1,0\n",
    "# coverage\tordinal encode\n",
    "# education\tcombine master & dr.\n",
    "# employment status\tsmallest 3 into other\n",
    "# gender\t1hot encode\n",
    "# location\tordinal encode as is\n",
    "# marital\t1hot encode as is\n",
    "# policy type\t1hot encode\n",
    "# policy\tdrop column\n",
    "# renew offer\tencode as is\n",
    "# sales channel\t1hot encode as is\n",
    "# vehicle class\t1hot combine luxury/sports\n",
    "# vehicle size\tordinal encode"
   ]
  },
  {
   "cell_type": "code",
   "execution_count": null,
   "id": "8576c420",
   "metadata": {},
   "outputs": [],
   "source": [
    "# Dummy code for ordinal encoding\n",
    "# data[\"coverage\"] = data[\"coverage\"].map({\"Basic\" : 0, \"Extended\" : 1, \"Premium\" : 2})"
   ]
  },
  {
   "cell_type": "code",
   "execution_count": null,
   "id": "a11beebc",
   "metadata": {},
   "outputs": [],
   "source": [
    "X_train[\"coverage\"] = X_train[\"coverage\"].map({\"Basic\" : 0, \"Extended\" :.5, \"Premium\" : 1})"
   ]
  },
  {
   "cell_type": "code",
   "execution_count": null,
   "id": "8d56bb46",
   "metadata": {},
   "outputs": [],
   "source": [
    "X_test[\"coverage\"] = X_test[\"coverage\"].map({\"Basic\" : 0, \"Extended\" :.5, \"Premium\" : 1})"
   ]
  },
  {
   "cell_type": "code",
   "execution_count": null,
   "id": "b39e479e",
   "metadata": {},
   "outputs": [],
   "source": [
    "X_train['employmentstatus'].unique()"
   ]
  },
  {
   "cell_type": "code",
   "execution_count": null,
   "id": "d30cea6c",
   "metadata": {},
   "outputs": [],
   "source": [
    "X_train[\"employmentstatus\"] = X_train[\"employmentstatus\"].map({\"Medical Leave\" : 0, \"Disabled\" : 0, \"Unemployed\" : 0, \"Retired\" : .5, \"Employed\":1})\n"
   ]
  },
  {
   "cell_type": "code",
   "execution_count": null,
   "id": "0ab1b3d3",
   "metadata": {},
   "outputs": [],
   "source": [
    "X_test[\"employmentstatus\"] = X_test[\"employmentstatus\"].map({\"Medical Leave\" : 0, \"Disabled\" : 0, \"Unemployed\" : 0, \"Retired\" : .5, \"Employed\":1})\n"
   ]
  },
  {
   "cell_type": "code",
   "execution_count": null,
   "id": "4aeb25e4",
   "metadata": {},
   "outputs": [],
   "source": [
    "X_train['location_code'].unique()"
   ]
  },
  {
   "cell_type": "code",
   "execution_count": null,
   "id": "87d32b81",
   "metadata": {},
   "outputs": [],
   "source": [
    "X_train[\"location_code\"] =X_train[\"location_code\"].map({\"Rural\" : 0, \"Suburban\" :.5, \"Urban\" : 1,})\n"
   ]
  },
  {
   "cell_type": "code",
   "execution_count": null,
   "id": "2af484b9",
   "metadata": {},
   "outputs": [],
   "source": [
    "X_test[\"location_code\"] =X_test[\"location_code\"].map({\"Rural\" : 0, \"Suburban\" :.5, \"Urban\" : 1,})\n"
   ]
  },
  {
   "cell_type": "code",
   "execution_count": null,
   "id": "ff01112d",
   "metadata": {},
   "outputs": [],
   "source": [
    "X_train['vehicle_size'].unique()\n"
   ]
  },
  {
   "cell_type": "code",
   "execution_count": null,
   "id": "f41d537d",
   "metadata": {},
   "outputs": [],
   "source": [
    "X_train[\"vehicle_size\"] =X_train[\"vehicle_size\"].map({\"Small\" : 0, \"Medsize\" :.5, \"Large\" : 1,})\n"
   ]
  },
  {
   "cell_type": "code",
   "execution_count": null,
   "id": "4d7f7903",
   "metadata": {},
   "outputs": [],
   "source": [
    "X_test[\"vehicle_size\"] =X_test[\"vehicle_size\"].map({\"Small\" : 0, \"Medsize\" :.5, \"Large\" : 1,})\n"
   ]
  },
  {
   "cell_type": "code",
   "execution_count": null,
   "id": "cf9f1a9a",
   "metadata": {},
   "outputs": [],
   "source": [
    "X_train[\"education\"].value_counts(dropna=False)\n"
   ]
  },
  {
   "cell_type": "code",
   "execution_count": null,
   "id": "dfd1df92",
   "metadata": {},
   "outputs": [],
   "source": [
    "X_train[\"education\"] = X_train[\"education\"].map({\"High School or Below\" : 0, \"College\" :.33, \"Bachelor\" : .66,\"Post-Uni\" : 1})\n"
   ]
  },
  {
   "cell_type": "code",
   "execution_count": null,
   "id": "e4efea22",
   "metadata": {},
   "outputs": [],
   "source": [
    "X_test[\"education\"] = X_test[\"education\"].map({\"High School or Below\" : 0, \"College\" :.33, \"Bachelor\" : .66,\"Post-Uni\" : 1})\n"
   ]
  },
  {
   "cell_type": "code",
   "execution_count": null,
   "id": "df5723c4",
   "metadata": {},
   "outputs": [],
   "source": [
    "X_train[\"vehicle_class\"].value_counts(dropna=False)\n"
   ]
  },
  {
   "cell_type": "code",
   "execution_count": null,
   "id": "a5c749fa",
   "metadata": {},
   "outputs": [],
   "source": [
    "X_train_1_hot_col = X_train[['state','response','gender','marital_status','policy_type','renew_offer_type','sales_channel','vehicle_class']]\n",
    "X_train_1_hot_col"
   ]
  },
  {
   "cell_type": "code",
   "execution_count": null,
   "id": "4ca30465",
   "metadata": {},
   "outputs": [],
   "source": [
    "X_test_1_hot_col = X_test[['state','response','gender','marital_status','policy_type','renew_offer_type','sales_channel','vehicle_class']]\n",
    "X_test_1_hot_col"
   ]
  },
  {
   "cell_type": "code",
   "execution_count": null,
   "id": "fcb0f209",
   "metadata": {},
   "outputs": [],
   "source": [
    "# OneHotEncode the remaining categorical columns"
   ]
  },
  {
   "cell_type": "code",
   "execution_count": null,
   "id": "9a3fa3a1",
   "metadata": {},
   "outputs": [],
   "source": [
    "from sklearn.preprocessing import OneHotEncoder\n",
    "encoder = OneHotEncoder(drop='first').fit(X_train_1_hot_col)\n",
    "\n",
    "cols = encoder.get_feature_names(input_features = X_train_1_hot_col.columns)\n",
    "\n",
    "X_train_col_encoded = pd.DataFrame(encoder.transform(X_train_1_hot_col).toarray(),columns=cols)\n",
    "\n",
    "X_train_col_encoded"
   ]
  },
  {
   "cell_type": "code",
   "execution_count": null,
   "id": "e571c8a8",
   "metadata": {},
   "outputs": [],
   "source": [
    "cols1 = encoder.get_feature_names(input_features = X_test_1_hot_col.columns)\n",
    "\n",
    "X_test_col_encoded = pd.DataFrame(encoder.transform( X_test_1_hot_col).toarray(),columns=cols1)\n",
    "\n",
    "X_test_col_encoded"
   ]
  },
  {
   "cell_type": "code",
   "execution_count": null,
   "id": "5aadc9ff",
   "metadata": {},
   "outputs": [],
   "source": [
    "X_train = X_train.drop(['state','response','education','gender','marital_status','policy_type','renew_offer_type','sales_channel','vehicle_class'],axis = 1)\n",
    "X_train=X_train.reset_index()\n",
    "X_train"
   ]
  },
  {
   "cell_type": "code",
   "execution_count": null,
   "id": "c09e183a",
   "metadata": {},
   "outputs": [],
   "source": [
    "X_test = X_test.drop(['state','response','education','gender','marital_status','policy_type','renew_offer_type','sales_channel','vehicle_class'],axis = 1)\n",
    "X_test = X_test.reset_index()\n",
    "X_test"
   ]
  },
  {
   "cell_type": "code",
   "execution_count": null,
   "id": "1db0ea91",
   "metadata": {},
   "outputs": [],
   "source": [
    "X_train = X_train.drop('index', axis=1)\n",
    "X_test = X_test.drop('index',axis=1)"
   ]
  },
  {
   "cell_type": "code",
   "execution_count": null,
   "id": "115893cf",
   "metadata": {},
   "outputs": [],
   "source": [
    "X_train_encoded= pd.concat([X_train,X_train_col_encoded],axis=1)\n",
    "X_train_encoded= X_train_encoded.reset_index()\n",
    "X_train_encoded= X_train_encoded.drop('index',axis=1)"
   ]
  },
  {
   "cell_type": "code",
   "execution_count": null,
   "id": "dc8b7866",
   "metadata": {},
   "outputs": [],
   "source": [
    "X_test_encoded= pd.concat([X_test,X_test_col_encoded],axis=1)\n",
    "X_test_encoded= X_test_encoded.reset_index()\n",
    "X_test_encoded= X_test_encoded.drop('index',axis=1)\n",
    "X_test_encoded"
   ]
  },
  {
   "cell_type": "code",
   "execution_count": null,
   "id": "e6d64983",
   "metadata": {},
   "outputs": [],
   "source": [
    "# Standardize needed columns"
   ]
  },
  {
   "cell_type": "code",
   "execution_count": null,
   "id": "0a690885",
   "metadata": {},
   "outputs": [],
   "source": [
    "X_train.dtypes"
   ]
  },
  {
   "cell_type": "code",
   "execution_count": null,
   "id": "502acc93",
   "metadata": {},
   "outputs": [],
   "source": [
    "X_train_to_scale = X_train[['customer_lifetime_value','income','monthly_premium_auto','months_since_last_claim','months_since_policy_inception','number_of_open_complaints','number_of_policies']]\n",
    "X_train_to_scale\n",
    "X_test_to_scale = X_test[['customer_lifetime_value','income','monthly_premium_auto','months_since_last_claim','months_since_policy_inception','number_of_open_complaints','number_of_policies']]\n",
    "X_test_to_scale"
   ]
  },
  {
   "cell_type": "code",
   "execution_count": null,
   "id": "fd3aede8",
   "metadata": {},
   "outputs": [],
   "source": [
    "# Initialize and fit the scaler"
   ]
  },
  {
   "cell_type": "code",
   "execution_count": null,
   "id": "8102b434",
   "metadata": {},
   "outputs": [],
   "source": [
    "transformer = MinMaxScaler().fit(X_train_to_scale)"
   ]
  },
  {
   "cell_type": "code",
   "execution_count": null,
   "id": "e84562a9",
   "metadata": {},
   "outputs": [],
   "source": [
    "X_norm1 = transformer.transform(X_train_to_scale)\n",
    "X_train_scaled = pd.DataFrame(X_norm1, columns=X_train_to_scale.columns)\n",
    "X_train_scaled = X_train_scaled.reset_index()"
   ]
  },
  {
   "cell_type": "code",
   "execution_count": null,
   "id": "03263a25",
   "metadata": {},
   "outputs": [],
   "source": [
    "X_norm2 = transformer.transform(X_test_to_scale)\n",
    "X_test_scaled = pd.DataFrame(X_norm2, columns=X_test_to_scale.columns)\n",
    "X_test_scaled= X_test_scaled.reset_index()"
   ]
  },
  {
   "cell_type": "code",
   "execution_count": null,
   "id": "faaadbf7",
   "metadata": {},
   "outputs": [],
   "source": [
    "X_train = X_train.drop(['customer_lifetime_value','income','monthly_premium_auto','months_since_last_claim','months_since_policy_inception','number_of_open_complaints','number_of_policies'],axis = 1)\n",
    "X_test = X_test.drop(['customer_lifetime_value','income','monthly_premium_auto','months_since_last_claim','months_since_policy_inception','number_of_open_complaints','number_of_policies'], axis = 1)"
   ]
  },
  {
   "cell_type": "code",
   "execution_count": null,
   "id": "1c17a65b",
   "metadata": {},
   "outputs": [],
   "source": [
    "X_train_s_e = pd.concat([X_train, X_train_scaled],axis = 1)\n",
    "X_test_s_e = pd.concat([X_test, X_test_scaled], axis = 1)"
   ]
  },
  {
   "cell_type": "code",
   "execution_count": null,
   "id": "2423de2b",
   "metadata": {},
   "outputs": [],
   "source": [
    "X_train_s_e.isna().sum()"
   ]
  },
  {
   "cell_type": "code",
   "execution_count": null,
   "id": "ef7b209f",
   "metadata": {},
   "outputs": [],
   "source": [
    "# Models"
   ]
  },
  {
   "cell_type": "code",
   "execution_count": null,
   "id": "f8e57547",
   "metadata": {},
   "outputs": [],
   "source": [
    "# Define function to run all models\n",
    "def models_automation(models, X_tr, y_tr,X_te, y_te):\n",
    "    for model in models:\n",
    "        model.fit(X_tr, y_tr)\n",
    "        print(f\"{model.__class__.__name__}: Train -> {model.score(X_tr, y_tr)}, Test -> {model.score(X_te, y_te)}\")"
   ]
  },
  {
   "cell_type": "code",
   "execution_count": null,
   "id": "9f7cc6b5",
   "metadata": {},
   "outputs": [],
   "source": [
    "model_list = [LinearRegression(),SGDRegressor(),KNeighborsRegressor(), MLPRegressor(),DecisionTreeRegressor(),RandomForestRegressor()]\n",
    "models_automation(model_list, X_train_s_e, y_train, X_test_s_e, y_test)"
   ]
  },
  {
   "cell_type": "code",
   "execution_count": null,
   "id": "54a82b7e",
   "metadata": {},
   "outputs": [],
   "source": [
    "# Output should be:\n",
    "# LinearRegression: Train -> 0.5908006353951994, Test -> 0.6030595738295939\n",
    "# SGDRegressor: Train -> -1.5263448751673026e+26, Test -> -9.255359612458309e+24\n",
    "# KNeighborsRegressor: Train -> 0.19926663210474438, Test -> -0.166368830741221\n",
    "# MLPRegressor: Train -> 0.4415115779517472, Test -> 0.4783591303835689\n",
    "# DecisionTreeRegressor: Train -> 1.0, Test -> 0.6583004946305966\n",
    "# RandomForestRegressor: Train -> 0.9736229362776976, Test -> 0.816033071998738"
   ]
  },
  {
   "cell_type": "code",
   "execution_count": null,
   "id": "eea98d30",
   "metadata": {},
   "outputs": [],
   "source": [
    "# Begin Lab 4.3\n",
    "# Instructions\n",
    "# Open the categoricals variable we created before.\n",
    "# categoricals = data.select_dtypes(np.object)\n",
    "# categoricals.head()\n",
    "# Plot all the categorical variables with the proper plot. What can you see?\n",
    "# There might be some columns that seem to be redundant, check their values to be sure. What should we do with them?\n",
    "# Plot time variable. Can you extract something from it?"
   ]
  },
  {
   "cell_type": "code",
   "execution_count": null,
   "id": "989cbea2",
   "metadata": {},
   "outputs": [],
   "source": [
    "cat = pd.read_csv('categorical_b4_encoding.csv')\n",
    "cat"
   ]
  },
  {
   "cell_type": "code",
   "execution_count": null,
   "id": "d45ad3aa",
   "metadata": {},
   "outputs": [],
   "source": [
    "cntplot_cat(cat)"
   ]
  },
  {
   "cell_type": "code",
   "execution_count": null,
   "id": "682b62c2",
   "metadata": {},
   "outputs": [],
   "source": [
    "def dis_cat(df):\n",
    "    for column in df.columns:\n",
    "        sns.displot(x=df[column])\n",
    "        plt.show()\n",
    "    return None"
   ]
  },
  {
   "cell_type": "code",
   "execution_count": null,
   "id": "f1fa205c",
   "metadata": {},
   "outputs": [],
   "source": [
    "dis_cat(cat)"
   ]
  },
  {
   "cell_type": "code",
   "execution_count": null,
   "id": "816fd30c",
   "metadata": {},
   "outputs": [],
   "source": [
    "# Checking the date column"
   ]
  },
  {
   "cell_type": "code",
   "execution_count": null,
   "id": "e14ecbad",
   "metadata": {},
   "outputs": [],
   "source": [
    "data['effective_to_date']"
   ]
  },
  {
   "cell_type": "code",
   "execution_count": null,
   "id": "a1f21ecc",
   "metadata": {},
   "outputs": [],
   "source": [
    "sns.set(rc={'figure.figsize':(15,8)})\n",
    "sns.lineplot(x=\"effective_to_date\", y=\"total_claim_amount\", data = data)"
   ]
  },
  {
   "cell_type": "code",
   "execution_count": null,
   "id": "08466d63",
   "metadata": {},
   "outputs": [],
   "source": [
    "# Can't see clear pattern. Let's create a df of just time features."
   ]
  },
  {
   "cell_type": "code",
   "execution_count": null,
   "id": "bf523322",
   "metadata": {},
   "outputs": [],
   "source": [
    "time_data = pd.DataFrame()\n",
    "time_data[\"day\"] = data[\"effective_to_date\"].dt.day\n",
    "time_data[\"week\"] = data[\"effective_to_date\"].dt.week\n",
    "time_data[\"month\"] = data[\"effective_to_date\"].dt.month\n",
    "time_data[\"target\"] = data[\"total_claim_amount\"]\n",
    "time_data"
   ]
  },
  {
   "cell_type": "code",
   "execution_count": null,
   "id": "c14deec0",
   "metadata": {},
   "outputs": [],
   "source": [
    "sns.lineplot(x = time_data.day, y=time_data.target, hue = time_data.month, palette=\"Set1\");"
   ]
  },
  {
   "cell_type": "code",
   "execution_count": null,
   "id": "eb1f1689",
   "metadata": {},
   "outputs": [],
   "source": [
    "# Still not clear, check weeks\n",
    "sns.lineplot(x = time_data.week, y = time_data.target);"
   ]
  },
  {
   "cell_type": "code",
   "execution_count": null,
   "id": "f0109cb7",
   "metadata": {},
   "outputs": [],
   "source": [
    "# Error here.  This graph looks wonky. Check values.\n",
    "time_data.week.value_counts()"
   ]
  },
  {
   "cell_type": "code",
   "execution_count": null,
   "id": "92633135",
   "metadata": {},
   "outputs": [],
   "source": [
    "# why the jump to 52?  Very out of sequence.  Check dates of week 52.\n",
    "data.effective_to_date.loc[data.effective_to_date.dt.week[data.effective_to_date.dt.week == 52].index]"
   ]
  },
  {
   "cell_type": "code",
   "execution_count": null,
   "id": "cd4252ba",
   "metadata": {},
   "outputs": [],
   "source": [
    "# Looks like first week, check dates of week1 to see if sequential\n",
    "data.effective_to_date.loc[data.effective_to_date.dt.week[data.effective_to_date.dt.week == 1].in"
   ]
  },
  {
   "cell_type": "code",
   "execution_count": null,
   "id": "9208fb6d",
   "metadata": {},
   "outputs": [],
   "source": [
    "# Yes it is, change 52 to 0\n",
    "time_df.week = time_df.week.apply(lambda x: 0 if x == 52 else x)"
   ]
  },
  {
   "cell_type": "code",
   "execution_count": null,
   "id": "befdaae2",
   "metadata": {},
   "outputs": [],
   "source": [
    "\n",
    "# plot again\n",
    "sns.lineplot(x = time_df.week, y = time_df.target)"
   ]
  },
  {
   "cell_type": "code",
   "execution_count": null,
   "id": "1099de68",
   "metadata": {},
   "outputs": [],
   "source": []
  },
  {
   "cell_type": "code",
   "execution_count": null,
   "id": "25f39f75",
   "metadata": {},
   "outputs": [],
   "source": []
  },
  {
   "cell_type": "code",
   "execution_count": null,
   "id": "40ab0c1d",
   "metadata": {},
   "outputs": [],
   "source": []
  },
  {
   "cell_type": "code",
   "execution_count": null,
   "id": "f8ed077b",
   "metadata": {},
   "outputs": [],
   "source": []
  },
  {
   "cell_type": "code",
   "execution_count": null,
   "id": "e51b789c",
   "metadata": {},
   "outputs": [],
   "source": []
  },
  {
   "cell_type": "code",
   "execution_count": null,
   "id": "58a6af8b",
   "metadata": {},
   "outputs": [],
   "source": [
    "# Base libraries\n",
    "import pandas as pd\n",
    "import numpy as np\n",
    "\n",
    "pd.set_option('display.max_columns', None)\n",
    "\n",
    "# Visualization\n",
    "import matplotlib.pyplot as plt\n",
    "import seaborn as sns\n",
    "from matplotlib.colors import BASE_COLORS\n",
    "\n",
    "%matplotlib inline\n",
    "\n",
    "#warnings\n",
    "import warnings\n",
    "warnings.filterwarnings('ignore')\n",
    "warnings.filterwarnings(\"ignore\", message=\"numpy.ufunc size changed\")"
   ]
  },
  {
   "cell_type": "code",
   "execution_count": null,
   "id": "abbc73a4",
   "metadata": {},
   "outputs": [],
   "source": [
    "# customer_df = pd.read_csv(\"data/we_fn_use_c_marketing_customer_value_analysis.csv\")\n",
    "# 2 Load the we_fn_use_c_marketing_customer_value_analysis.csv into the variable customer_df\n",
    "customer_df = pd.read_csv('we_fn_use_c_marketing_customer_value_analysis.csv')\n",
    "display(customer_df.shape)\n",
    "customer_df.head()"
   ]
  },
  {
   "cell_type": "code",
   "execution_count": null,
   "id": "025f9c1c",
   "metadata": {},
   "outputs": [],
   "source": [
    "customer_df.head(5)\n"
   ]
  },
  {
   "cell_type": "code",
   "execution_count": null,
   "id": "72628702",
   "metadata": {},
   "outputs": [],
   "source": [
    "customer_df.shape"
   ]
  },
  {
   "cell_type": "code",
   "execution_count": null,
   "id": "541865f0",
   "metadata": {},
   "outputs": [],
   "source": [
    "\n",
    "customer_df.info()"
   ]
  },
  {
   "cell_type": "code",
   "execution_count": null,
   "id": "aee0762c",
   "metadata": {},
   "outputs": [],
   "source": [
    "new_cols = [col.replace(\" \", \"_\").lower() for col in customer_df]\n",
    "customer_df.columns = new_cols"
   ]
  },
  {
   "cell_type": "code",
   "execution_count": null,
   "id": "c4edf795",
   "metadata": {},
   "outputs": [],
   "source": [
    "# date column to datetime format\n",
    "customer_df['effective_to_date'] = pd.to_datetime(customer_df['effective_to_date'])"
   ]
  },
  {
   "cell_type": "code",
   "execution_count": null,
   "id": "bb8e6deb",
   "metadata": {},
   "outputs": [],
   "source": [
    "#Check NaNs Total\n",
    "customer_df.isna().sum()"
   ]
  },
  {
   "cell_type": "code",
   "execution_count": null,
   "id": "862960c5",
   "metadata": {},
   "outputs": [],
   "source": [
    "\n",
    "# Check NaNs (Percentage)\n",
    "customer_df.isna().sum()/len(customer_df)"
   ]
  },
  {
   "cell_type": "code",
   "execution_count": null,
   "id": "691a3693",
   "metadata": {},
   "outputs": [],
   "source": [
    "customer_df.describe()\n"
   ]
  },
  {
   "cell_type": "code",
   "execution_count": null,
   "id": "6401ccbb",
   "metadata": {},
   "outputs": [],
   "source": [
    "\n",
    "# Income variable first quartil == min. Too many zeros. \n",
    "customer_df['income'].value_counts()\n",
    "#Length: n. of unique values"
   ]
  },
  {
   "cell_type": "code",
   "execution_count": null,
   "id": "2751aa9f",
   "metadata": {},
   "outputs": [],
   "source": [
    "\n",
    "#replace zeros with median\n",
    "median_income=customer_df['income'].median(skipna=True)\n",
    "customer_df['income']=customer_df.income.mask(customer_df.income==0,median_income)"
   ]
  },
  {
   "cell_type": "code",
   "execution_count": null,
   "id": "b89a7804",
   "metadata": {},
   "outputs": [],
   "source": [
    "\n",
    "customer_df['income'].value_counts()\n"
   ]
  },
  {
   "cell_type": "code",
   "execution_count": null,
   "id": "dd929b03",
   "metadata": {},
   "outputs": [],
   "source": [
    "\n",
    "numericals = customer_df.select_dtypes(np.number)\n",
    "numericals.head()"
   ]
  },
  {
   "cell_type": "code",
   "execution_count": null,
   "id": "bd0aaea0",
   "metadata": {},
   "outputs": [],
   "source": [
    "#the discrete variables will be likely the ones with less unique values\n",
    "numericals.nunique()\n"
   ]
  },
  {
   "cell_type": "code",
   "execution_count": null,
   "id": "73bbf94d",
   "metadata": {},
   "outputs": [],
   "source": [
    "\n",
    "discrete = [i for i in numericals if (len(numericals[i].unique()) < (numericals.shape[0] * 0.01))]"
   ]
  },
  {
   "cell_type": "code",
   "execution_count": null,
   "id": "72268422",
   "metadata": {},
   "outputs": [],
   "source": [
    "\n",
    "discrete\n"
   ]
  },
  {
   "cell_type": "code",
   "execution_count": null,
   "id": "3449cc70",
   "metadata": {},
   "outputs": [],
   "source": [
    "\n",
    "continuous = list(numericals.drop(columns = discrete).columns)\n"
   ]
  },
  {
   "cell_type": "code",
   "execution_count": null,
   "id": "ee586470",
   "metadata": {},
   "outputs": [],
   "source": [
    "\n",
    "continuous\n"
   ]
  },
  {
   "cell_type": "code",
   "execution_count": null,
   "id": "959ed92c",
   "metadata": {},
   "outputs": [],
   "source": [
    "# 1.Import the necessary libraries if you are starting a new notebook. Using the same data as the previous lab: we_fn_use_c_marketing_customer_value_analysis.csv\n",
    "# 2.Find all of the categorical data. Save it in a categorical_df variable.\n",
    "# 3.Check for NaN values.\n",
    "# 4.Check all unique values of columns.\n",
    "# 5.Check dtypes. Do they all make sense as categorical data?\n",
    "# 6.Does any column contain alpha and numeric data? Decide how to clean it.\n",
    "# 7.Would you choose to do anything else to clean or wrangle the categorical data? Comment your decisions.\n",
    "# 8.Compare policy_type and policy. What information is contained in these columns. Can you identify what is important?\n",
    "# 9.Check number of unique values in each column, can they be combined in any way to ease encoding? Comment your thoughts and make those changes."
   ]
  },
  {
   "cell_type": "code",
   "execution_count": null,
   "id": "d86e3ded",
   "metadata": {},
   "outputs": [],
   "source": [
    "\n",
    "customer_df.head()\n"
   ]
  },
  {
   "cell_type": "code",
   "execution_count": null,
   "id": "f04c0da8",
   "metadata": {},
   "outputs": [],
   "source": [
    "# 2.Find all of the categorical data. Save it in a categorical_df variable.\n",
    "# 3.Check for NaN values.\n",
    "# 4.Check all unique values of columns.\n",
    "# 5.Check dtypes. Do they all make sense as categorical data?\n",
    "# 6.Does any column contain alpha and numeric data? Decide how to clean it.\n",
    "# 7.Would you choose to do anything else to clean or wrangle the categorical data? Comment your decisions.\n",
    "# 8.Compare policy_type and policy. What information is contained in these columns. Can you identify what is important?\n",
    "# 9.Check number of unique values in each column, can they be combined in any way to ease encoding? Comment your thoughts and make those changes."
   ]
  },
  {
   "cell_type": "code",
   "execution_count": null,
   "id": "ee491ee6",
   "metadata": {},
   "outputs": [],
   "source": [
    "categorical = customer_df.select_dtypes(object)"
   ]
  },
  {
   "cell_type": "code",
   "execution_count": null,
   "id": "c706fbb6",
   "metadata": {},
   "outputs": [],
   "source": [
    "\n",
    "categorical.nunique()"
   ]
  },
  {
   "cell_type": "code",
   "execution_count": null,
   "id": "eba9d652",
   "metadata": {},
   "outputs": [],
   "source": [
    "\n",
    "categorical_columns = [i for i in categorical if (len(categorical[i].unique()) < (numericals.shape[0] * 0.01))]\n"
   ]
  },
  {
   "cell_type": "code",
   "execution_count": null,
   "id": "621cb2d7",
   "metadata": {},
   "outputs": [],
   "source": [
    "#no customer_id anymore\n",
    "categorical_columns\n"
   ]
  },
  {
   "cell_type": "code",
   "execution_count": null,
   "id": "b1386b87",
   "metadata": {},
   "outputs": [],
   "source": [
    "\n",
    "categorical_df=customer_df[categorical_columns]"
   ]
  },
  {
   "cell_type": "code",
   "execution_count": null,
   "id": "344ab169",
   "metadata": {},
   "outputs": [],
   "source": [
    "categorical_df\n"
   ]
  },
  {
   "cell_type": "code",
   "execution_count": null,
   "id": "9f8a8330",
   "metadata": {},
   "outputs": [],
   "source": []
  },
  {
   "cell_type": "code",
   "execution_count": null,
   "id": "a5b88750",
   "metadata": {},
   "outputs": [],
   "source": [
    "continuous_df = numericals.drop(columns = discrete)\n"
   ]
  },
  {
   "cell_type": "code",
   "execution_count": null,
   "id": "99d22a34",
   "metadata": {},
   "outputs": [],
   "source": [
    "\n",
    "continuous_df.head()\n"
   ]
  },
  {
   "cell_type": "code",
   "execution_count": null,
   "id": "dba5fe7e",
   "metadata": {},
   "outputs": [],
   "source": [
    "\n",
    "\n",
    "discrete_df = numericals[discrete]\n"
   ]
  },
  {
   "cell_type": "code",
   "execution_count": null,
   "id": "9542bf7e",
   "metadata": {},
   "outputs": [],
   "source": [
    "\n",
    "discrete_df\n"
   ]
  },
  {
   "cell_type": "code",
   "execution_count": null,
   "id": "57c11051",
   "metadata": {},
   "outputs": [],
   "source": [
    "\n",
    "mask = np.zeros_like(numericals.corr())\n",
    "mask[np.triu_indices_from(mask)] = True\n",
    "with sns.axes_style(\"white\"):\n",
    "    f, ax = plt.subplots(figsize=(16, 10))\n",
    "    ax = sns.heatmap(numericals.corr(), mask=mask,\n",
    "                     square=True, linewidths=1, cmap=\"coolwarm\",\n",
    "                     vmax = 0.8, vmin = -0.8)\n"
   ]
  },
  {
   "cell_type": "code",
   "execution_count": null,
   "id": "f6c7b0f5",
   "metadata": {},
   "outputs": [],
   "source": [
    "# Discrete\n"
   ]
  },
  {
   "cell_type": "code",
   "execution_count": null,
   "id": "a312758d",
   "metadata": {},
   "outputs": [],
   "source": [
    "\n",
    "#  barplots from discrete data\n",
    "\n",
    "def df_bar(df):\n",
    "    sns.set(rc={'figure.figsize':(16,8)})\n",
    "    for i, col in enumerate(df):\n",
    "        plt.figure(i)\n",
    "        sns.barplot(x = df[col].value_counts().index, y = df[col].value_counts())\n",
    "        \n",
    "    plt.show()\n",
    "\n",
    "\n"
   ]
  },
  {
   "cell_type": "code",
   "execution_count": null,
   "id": "6e27a09a",
   "metadata": {},
   "outputs": [],
   "source": [
    "\n",
    "df_bar(discrete_df)\n"
   ]
  },
  {
   "cell_type": "code",
   "execution_count": null,
   "id": "7ab58ced",
   "metadata": {},
   "outputs": [],
   "source": [
    "def df_hist(df):\n",
    "    sns.set(rc={'figure.figsize':(16,8)})\n",
    "    for i, col in enumerate(df):\n",
    "        plt.figure(i)\n",
    "        sns.distplot(df[col], color = list(BASE_COLORS.keys())[i])\n",
    "        \n",
    "    plt.show()\n",
    "\n"
   ]
  },
  {
   "cell_type": "code",
   "execution_count": null,
   "id": "8ada924f",
   "metadata": {},
   "outputs": [],
   "source": [
    "\n",
    "df_hist(continuous_df)\n"
   ]
  },
  {
   "cell_type": "code",
   "execution_count": null,
   "id": "58c30cc0",
   "metadata": {},
   "outputs": [],
   "source": []
  },
  {
   "cell_type": "code",
   "execution_count": null,
   "id": "3d2ffb54",
   "metadata": {},
   "outputs": [],
   "source": [
    "\n",
    "sns.distplot(continuous_df[\"customer_lifetime_value\"], bins = 100);"
   ]
  },
  {
   "cell_type": "code",
   "execution_count": null,
   "id": "eeb7d0cb",
   "metadata": {},
   "outputs": [],
   "source": [
    "\n",
    "continuous_df[\"customer_lifetime_value\"].value_counts()"
   ]
  },
  {
   "cell_type": "code",
   "execution_count": null,
   "id": "1a949e9b",
   "metadata": {},
   "outputs": [],
   "source": [
    "\n",
    "sns.distplot(continuous_df[\"total_claim_amount\"], bins = 100, color = list(BASE_COLORS.keys())[4]);\n"
   ]
  },
  {
   "cell_type": "code",
   "execution_count": null,
   "id": "3031b1b6",
   "metadata": {},
   "outputs": [],
   "source": [
    "continuous_df[\"total_claim_amount\"].value_counts()\n"
   ]
  },
  {
   "cell_type": "code",
   "execution_count": null,
   "id": "a17b8a4d",
   "metadata": {},
   "outputs": [],
   "source": [
    "# Distribution is ok,  no nans were replaced.\n",
    "\n",
    "# 6. Look for outliers in the continuous variables we have found. Hint: There is a good plot to do that."
   ]
  },
  {
   "cell_type": "code",
   "execution_count": null,
   "id": "ec4bc2e8",
   "metadata": {},
   "outputs": [],
   "source": [
    "\n",
    "continuous[:3]\n"
   ]
  },
  {
   "cell_type": "code",
   "execution_count": null,
   "id": "b6fbb3f8",
   "metadata": {},
   "outputs": [],
   "source": [
    "\n",
    "box_colors = [\"blue\", \"yellow\", \"red\"]\n",
    "\n",
    "f, ax = plt.subplots(1, 3, figsize=(16,8))\n",
    "\n",
    "\n",
    "for i, col in enumerate(continuous[:3]):\n",
    "    sns.boxplot(data = continuous_df[col], ax = ax[i], color = box_colors[i])\n",
    "    ax[i].set_title(col, fontsize = 14)\n",
    "plt.show();\n"
   ]
  },
  {
   "cell_type": "code",
   "execution_count": null,
   "id": "a2347d41",
   "metadata": {},
   "outputs": [],
   "source": [
    "#  outliers in customer lifetime vaulue + monthly_premium_auto"
   ]
  },
  {
   "cell_type": "code",
   "execution_count": null,
   "id": "b1fd627a",
   "metadata": {},
   "outputs": [],
   "source": [
    "# Lab | Cleaning categorical data\n",
    "# For this lab, we will be using the dataset in the Customer Analysis Business Case. This dataset can be found in files_for_lab folder. In this lab we will explore categorical data.\n",
    "\n",
    "# Instructions\n",
    "# 1.Import the necessary libraries if you are starting a new notebook. Using the same data as the previous lab: we_fn_use_c_marketing_customer_value_analysis.csv\n",
    "\n",
    "# 2.Find all of the categorical data. Save it in a categorical_df variable.\n",
    "\n",
    "# 3.Check for NaN values.\n",
    "\n",
    "# 4.Check all unique values of columns.\n",
    "\n",
    "# 5.Check dtypes. Do they all make sense as categorical data?\n",
    "\n",
    "# 6.Does any column contain alpha and numeric data? Decide how to clean it.\n",
    "\n",
    "# 7.Would you choose to do anything else to clean or wrangle the categorical data? Comment your decisions.\n",
    "\n",
    "# 8.Compare policy_type and policy. What information is contained in these columns. Can you identify what is important?\n",
    "\n",
    "# 9.Check number of unique values in each column, can they be combined in any way to ease encoding? Comment your thoughts and make those changes.\n"
   ]
  }
 ],
 "metadata": {
  "kernelspec": {
   "display_name": "Python 3 (ipykernel)",
   "language": "python",
   "name": "python3"
  },
  "language_info": {
   "codemirror_mode": {
    "name": "ipython",
    "version": 3
   },
   "file_extension": ".py",
   "mimetype": "text/x-python",
   "name": "python",
   "nbconvert_exporter": "python",
   "pygments_lexer": "ipython3",
   "version": "3.9.13"
  }
 },
 "nbformat": 4,
 "nbformat_minor": 5
}
